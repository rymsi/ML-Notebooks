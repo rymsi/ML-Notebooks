{
 "cells": [
  {
   "cell_type": "code",
   "execution_count": 1,
   "metadata": {
    "scrolled": true
   },
   "outputs": [],
   "source": [
    "import gym\n",
    "import tensorflow as tf\n",
    "import matplotlib.pyplot as plt\n",
    "import numpy as np"
   ]
  },
  {
   "cell_type": "code",
   "execution_count": 2,
   "metadata": {},
   "outputs": [],
   "source": [
    "env = gym.make('CartPole-v0')"
   ]
  },
  {
   "cell_type": "code",
   "execution_count": 3,
   "metadata": {},
   "outputs": [
    {
     "data": {
      "text/plain": [
       "array([ 0.00723971,  0.01746538, -0.00456076,  0.00731498])"
      ]
     },
     "execution_count": 3,
     "metadata": {},
     "output_type": "execute_result"
    }
   ],
   "source": [
    "obs = env.reset()\n",
    "obs"
   ]
  },
  {
   "cell_type": "code",
   "execution_count": 4,
   "metadata": {},
   "outputs": [
    {
     "data": {
      "text/plain": [
       "<matplotlib.image.AxesImage at 0x27ac6324e48>"
      ]
     },
     "execution_count": 4,
     "metadata": {},
     "output_type": "execute_result"
    },
    {
     "data": {
      "image/png": "[encoded data removed]",
      "text/plain": [
       "<Figure size 432x288 with 1 Axes>"
      ]
     },
     "metadata": {
      "needs_background": "light"
     },
     "output_type": "display_data"
    }
   ],
   "source": [
    "obs = env.render(mode='rgb_array')\n",
    "plt.imshow(obs)"
   ]
  },
  {
   "cell_type": "code",
   "execution_count": 5,
   "metadata": {},
   "outputs": [],
   "source": [
    "def plot_environment(env, figsize=(5,4)):\n",
    "    plt.close()  # or else nbagg sometimes plots in the previous cell\n",
    "    plt.figure(figsize=figsize)\n",
    "    img = env.render(mode=\"rgb_array\")\n",
    "    plt.imshow(img)\n",
    "    plt.axis(\"off\")\n",
    "    plt.show()"
   ]
  },
  {
   "cell_type": "code",
   "execution_count": 6,
   "metadata": {},
   "outputs": [],
   "source": [
    "env.close()"
   ]
  },
  {
   "cell_type": "code",
   "execution_count": 7,
   "metadata": {},
   "outputs": [],
   "source": [
    "obs = env.reset()"
   ]
  },
  {
   "cell_type": "code",
   "execution_count": 8,
   "metadata": {},
   "outputs": [
    {
     "data": {
      "text/plain": [
       "array([0.02698873, 0.03834588, 0.0454604 , 0.03469335])"
      ]
     },
     "execution_count": 8,
     "metadata": {},
     "output_type": "execute_result"
    }
   ],
   "source": [
    "obs"
   ]
  },
  {
   "cell_type": "markdown",
   "metadata": {},
   "source": [
    "Copied rendering code from Hands-on Jupyter notebook"
   ]
  },
  {
   "cell_type": "code",
   "execution_count": 9,
   "metadata": {},
   "outputs": [],
   "source": [
    "from PIL import Image, ImageDraw\n",
    "\n",
    "try:\n",
    "    from pyglet.gl import gl_info\n",
    "    openai_cart_pole_rendering = True   # no problem, let's use OpenAI gym's rendering function\n",
    "except Exception:\n",
    "    openai_cart_pole_rendering = False  # probably no X server available, let's use our own rendering function\n",
    "\n",
    "def render_cart_pole(env, obs):\n",
    "    if openai_cart_pole_rendering:\n",
    "        # use OpenAI gym's rendering function\n",
    "        return env.render(mode=\"rgb_array\")\n",
    "    else:\n",
    "        # rendering for the cart pole environment (in case OpenAI gym can't do it)\n",
    "        img_w = 600\n",
    "        img_h = 400\n",
    "        cart_w = img_w // 12\n",
    "        cart_h = img_h // 15\n",
    "        pole_len = img_h // 3.5\n",
    "        pole_w = img_w // 80 + 1\n",
    "        x_width = 2\n",
    "        max_ang = 0.2\n",
    "        bg_col = (255, 255, 255)\n",
    "        cart_col = 0x000000 # Blue Green Red\n",
    "        pole_col = 0x669acc # Blue Green Red\n",
    "\n",
    "        pos, vel, ang, ang_vel = obs\n",
    "        img = Image.new('RGB', (img_w, img_h), bg_col)\n",
    "        draw = ImageDraw.Draw(img)\n",
    "        cart_x = pos * img_w // x_width + img_w // x_width\n",
    "        cart_y = img_h * 95 // 100\n",
    "        top_pole_x = cart_x + pole_len * np.sin(ang)\n",
    "        top_pole_y = cart_y - cart_h // 2 - pole_len * np.cos(ang)\n",
    "        draw.line((0, cart_y, img_w, cart_y), fill=0)\n",
    "        draw.rectangle((cart_x - cart_w // 2, cart_y - cart_h // 2, cart_x + cart_w // 2, cart_y + cart_h // 2), fill=cart_col) # draw cart\n",
    "        draw.line((cart_x, cart_y - cart_h // 2, top_pole_x, top_pole_y), fill=pole_col, width=pole_w) # draw pole\n",
    "        return np.array(img)\n",
    "\n",
    "def plot_cart_pole(env, obs):\n",
    "    plt.close()  # or else nbagg sometimes plots in the previous cell\n",
    "    img = render_cart_pole(env, obs)\n",
    "    plt.imshow(img)\n",
    "    plt.axis(\"off\")\n",
    "    plt.show()"
   ]
  },
  {
   "cell_type": "code",
   "execution_count": 10,
   "metadata": {
    "scrolled": true
   },
   "outputs": [
    {
     "data": {
      "image/png": "[encoded data removed]",
      "text/plain": [
       "<Figure size 432x288 with 1 Axes>"
      ]
     },
     "metadata": {
      "needs_background": "light"
     },
     "output_type": "display_data"
    }
   ],
   "source": [
    "plot_cart_pole(env, obs)"
   ]
  },
  {
   "cell_type": "code",
   "execution_count": 11,
   "metadata": {},
   "outputs": [],
   "source": [
    "obs = env.reset()\n",
    "while True:\n",
    "    obs, reward, done, info = env.step(0)\n",
    "    if done:\n",
    "        break"
   ]
  },
  {
   "cell_type": "code",
   "execution_count": 12,
   "metadata": {},
   "outputs": [
    {
     "data": {
      "image/png": "[encoded data removed]",
      "text/plain": [
       "<Figure size 432x288 with 1 Axes>"
      ]
     },
     "metadata": {
      "needs_background": "light"
     },
     "output_type": "display_data"
    }
   ],
   "source": [
    "plot_cart_pole(env, obs)"
   ]
  },
  {
   "cell_type": "code",
   "execution_count": 13,
   "metadata": {},
   "outputs": [
    {
     "data": {
      "text/plain": [
       "Discrete(2)"
      ]
     },
     "execution_count": 13,
     "metadata": {},
     "output_type": "execute_result"
    }
   ],
   "source": [
    "env.action_space"
   ]
  },
  {
   "cell_type": "code",
   "execution_count": 14,
   "metadata": {},
   "outputs": [],
   "source": [
    "obs = env.reset()"
   ]
  },
  {
   "cell_type": "code",
   "execution_count": 15,
   "metadata": {},
   "outputs": [],
   "source": [
    "n_inputs = 4\n",
    "n_hidden = 4\n",
    "n_outputs = 1\n",
    "initializer = tf.variance_scaling_initializer()\n",
    "\n",
    "X = tf.placeholder(tf.float32, shape=[None, n_inputs])\n",
    "hidden = tf.layers.dense(X, n_hidden, activation=tf.nn.elu, kernel_initializer=initializer)\n",
    "outputs = tf.layers.dense(hidden, n_outputs, activation=tf.nn.sigmoid, kernel_initializer=initializer)\n",
    "\n",
    "p_left_and_right = tf.concat(axis=1, values=[outputs, 1-outputs])\n",
    "action = tf.multinomial(tf.log(p_left_and_right), num_samples=1)\n",
    "\n",
    "init = tf.global_variables_initializer()\n",
    "n_max_steps = 1000\n",
    "frames = []\n",
    "\n",
    "with tf.Session() as sess:\n",
    "    init.run()\n",
    "    obs = env.reset()\n",
    "    for step in range(n_max_steps):\n",
    "        img = render_cart_pole(env, obs)\n",
    "        frames.append(img)\n",
    "        action_val = action.eval(feed_dict={X: obs.reshape(1, n_inputs)})\n",
    "        obs, rewards, done, info = env.step(action_val[0][0])\n",
    "        if done:\n",
    "            break\n",
    "env.close()"
   ]
  },
  {
   "cell_type": "code",
   "execution_count": 16,
   "metadata": {},
   "outputs": [],
   "source": [
    "import matplotlib.animation as animation\n",
    "\n",
    "def update_scene(num, frames, patch):\n",
    "    patch.set_data(frames[num])\n",
    "    return patch,\n",
    "\n",
    "def plot_animation(frames, repeat=False, interval=40):\n",
    "    plt.close()  # or else nbagg sometimes plots in the previous cell\n",
    "    fig = plt.figure()\n",
    "    patch = plt.imshow(frames[0])\n",
    "    plt.axis('off')\n",
    "    return animation.FuncAnimation(fig, update_scene, fargs=(frames, patch), frames=len(frames), repeat=repeat, interval=interval)"
   ]
  },
  {
   "cell_type": "code",
   "execution_count": 17,
   "metadata": {},
   "outputs": [
    {
     "data": {
      "image/png": "[encoded data removed]",
      "text/plain": [
       "<Figure size 432x288 with 1 Axes>"
      ]
     },
     "metadata": {
      "needs_background": "light"
     },
     "output_type": "display_data"
    }
   ],
   "source": [
    "video = plot_animation(frames)\n",
    "plt.show()"
   ]
  },
  {
   "cell_type": "code",
   "execution_count": 18,
   "metadata": {},
   "outputs": [],
   "source": [
    "from IPython.display import HTML"
   ]
  },
  {
   "cell_type": "code",
   "execution_count": 19,
   "metadata": {},
   "outputs": [
    {
     "data": {
      "text/html": [
       "<video width=\"432\" height=\"288\" controls autoplay>\n",
       "  <source type=\"video/mp4\" src=\"data:video/mp4;base64,AAAAHGZ0eXBNNFYgAAACAGlzb21pc28yYXZjMQAAAAhmcmVlAAAJfW1kYXQAAAKuBgX//6rcRem9\n",
       "5tlIt5Ys2CDZI+7veDI2NCAtIGNvcmUgMTU3IHIyOTM1IDU0NWRlMmYgLSBILjI2NC9NUEVHLTQg\n",
       "QVZDIGNvZGVjIC0gQ29weWxlZnQgMjAwMy0yMDE4IC0gaHR0cDovL3d3dy52aWRlb2xhbi5vcmcv\n",
       "eDI2NC5odG1sIC0gb3B0aW9uczogY2FiYWM9MSByZWY9MyBkZWJsb2NrPTE6MDowIGFuYWx5c2U9\n",
       "MHgzOjB4MTEzIG1lPWhleCBzdWJtZT03IHBzeT0xIHBzeV9yZD0xLjAwOjAuMDAgbWl4ZWRfcmVm\n",
       "PTEgbWVfcmFuZ2U9MTYgY2hyb21hX21lPTEgdHJlbGxpcz0xIDh4OGRjdD0xIGNxbT0wIGRlYWR6\n",
       "b25lPTIxLDExIGZhc3RfcHNraXA9MSBjaHJvbWFfcXBfb2Zmc2V0PS0yIHRocmVhZHM9NiBsb29r\n",
       "YWhlYWRfdGhyZWFkcz0xIHNsaWNlZF90aHJlYWRzPTAgbnI9MCBkZWNpbWF0ZT0xIGludGVybGFj\n",
       "ZWQ9MCBibHVyYXlfY29tcGF0PTAgY29uc3RyYWluZWRfaW50cmE9MCBiZnJhbWVzPTMgYl9weXJh\n",
       "bWlkPTIgYl9hZGFwdD0xIGJfYmlhcz0wIGRpcmVjdD0xIHdlaWdodGI9MSBvcGVuX2dvcD0wIHdl\n",
       "aWdodHA9MiBrZXlpbnQ9MjUwIGtleWludF9taW49MjUgc2NlbmVjdXQ9NDAgaW50cmFfcmVmcmVz\n",
       "aD0wIHJjX2xvb2thaGVhZD00MCByYz1jcmYgbWJ0cmVlPTEgY3JmPTIzLjAgcWNvbXA9MC42MCBx\n",
       "cG1pbj0wIHFwbWF4PTY5IHFwc3RlcD00IGlwX3JhdGlvPTEuNDAgYXE9MToxLjAwAIAAAADuZYiE\n",
       "ADv//vdOvwKbRZdqA5JXCvbKpCZZuVJrAfKmAAADAAARsG58lw15q9IkAACtgAI4M4+FstedhnvH\n",
       "Dg+lAE7odaLWTRy6eukU4aJvqAiAK8mmQUWmOdclDPe6NdNsihNhMYNNTR4V+kvQ0bepV70skUcC\n",
       "jTkwkG5FmwRc5fzmXHzCOgmQ8+8cpnYpvvuAj1EQhrB4cr7MapodvezGEzCg13dwWy/r/Ocelj10\n",
       "MIaApFAwCT4uBBs0MEZDhFfPfwgSuo57t88gllDIoNBK5vfYhtx6RvVdu9e4Oc/PZqzxwF+3iA1x\n",
       "8AAAAwAPmQAAACtBmiRsQ7/+qZYAAFcFA6ACWMrmjcaISIBz1YlueL4TULsXwHCHzUEZbnZgAAAA\n",
       "EEGeQniF/wAAaZrzF2fjHd0AAAAOAZ5hdEK/AACKubG5lFAAAAAPAZ5jakK/AACO7E9itOthAAAA\n",
       "d0GaaEmoQWiZTAh3//6plgACt6zR1/utV4ANsAdZw1QF2w9mlUzRTGPPEJoHyf0sgHKHR/8RL89E\n",
       "EQMth3+flRBemwVMF1gT59c5jFY/GCWjBpeojvttowWsqTRSTfHtl/wkUwSaz35q5+lRe8/DwDJf\n",
       "D9gpiFaRAAAAMEGehkURLC//AAM4YlhcdPl5FNWyHiFt7/Aqlgx4VsUAEI5SVo2Nu4ecoRc+loto\n",
       "lwAAACUBnqV0Qr8ABFf7GwAtXQVB8uoMI7VONcoG7e3lrtWhK/LINZgXAAAAJwGep2pCvwAEVtfB\n",
       "29DNN1gTdXNnHY36ADhIx4BfNO/Hg1Ws7Ad+QQAAAF9BmqxJqEFsmUwId//+qZYAArkBwxIKVvdL\n",
       "otACWUIocNYX0Uak40/bcGg9Mf8d6KilqxSHynP/f9ZKjjvLECBfw/XZclhQDi4vkLfcTxif/jhM\n",
       "knWr/SC3TbEK77v3tAAAADBBnspFFSwv/wADOKYjLT6XtZ9dlFIcvuo7geMADny7YVNMPsws5TuT\n",
       "qSNHUgL40QkAAAAbAZ7pdEK/AAQ3xRaQIe0vnUHQTxZx1Zh3yGGwAAAAMAGe62pCvwAEVtfB89J0\n",
       "NAZGL/vj0cL/Mz/AAukYvK4+s1U3hupoJL5U2fMsJUoDmwAAAHRBmvBJqEFsmUwIb//+p4QABWMZ\n",
       "wW8bIAia04SMU25wv4rNjuzMQN+R2Ws4pVnM/JznSaHpsvgvz6SQvU+buf2FhGiBEvdEKjU+A9kA\n",
       "Qo4LGgZBGb5TnYJmQZDxk2IaXTF65UQPl5OYCilnh2dov/f8rFzGYQAAADhBnw5FFSwv/wADNkkw\n",
       "IDMbsJd3bcdKwD0rwlJ+sh+htAJf/sAG48vYWA5rDIOf13ALNksmPw4qQQAAACYBny10Qr8ABFYg\n",
       "6Fq2N8l4R9KyW5iJnT0AHNWcC2GjdQwHp3mGwQAAADIBny9qQr8ABE9D1tIwAcX6f3YFS0OXmlfM\n",
       "/+c/jDVNPFIDUDyPuZxegHR2jlPhyiA2xAAAAINBmzRJqEFsmUwIZ//+nhAAFQBVSJcIqyZcp8+A\n",
       "A2uPvnJ4WQ3Nnf3k7XBJ1m/HcVr0Z9iTxU9hwsK4f9h6BHWC7bazUYez70Q8iMrnfKd94QGA0reP\n",
       "iHhjedMwUrXb1Bkn2VmZcMg3+GOubhXD7O9jcnYxrq0oE0cgNp+a4MrYdXj9bQAAAEhBn1JFFSwv\n",
       "/wADOQyhPXcAcwnMLt78H7xaw4NLIu7/yhk6j/xqgJ5uJjn83lIunt9KuUztFhBjBd9Vg0fLfegD\n",
       "1EJcWrC8oW0AAAA8AZ9xdEK/AARWJD+xoNgQAJTnKpGPT+3du4xO33C3RWR4MojYiRp5ZKmQwEbd\n",
       "RKMxVkK1P4PABSOQbiBAAAAAOgGfc2pCvwAEVteynVCzr4VoAEzssw5sNKv+BO5Kv6U5p9cXBhfe\n",
       "zumaHdf3lxabOOfNXTl79ia6IeAAAABcQZt4SahBbJlMCFf//jhAAFI9rMg3xlPAAeQImvcq7UOp\n",
       "9xjfW8sjHRxVtsIqZ3gyBo5zudlgJbWyAaMo6/sHr0Jc/rJL4hAcyRFcerTME/BMLkAVxXPct3Hx\n",
       "vRUAAABCQZ+WRRUsL/8AAzgW3L3b6xgAugwKClrHiefQUuGA84gnUjbVNnbgsycvgoqJ07wlQWP6\n",
       "7MflQjkhwhjakIDJ3shAAAAANAGftXRCvwAEWEELp61ZYEAB7gAoKbGKbKuxiHtkCFTca157flPG\n",
       "3VlZILNtA2YZ2ywF2QkAAAA1AZ+3akK/AAQokq00DQATOIEnKyCPGG0Wr5uASndBvw8MFT5e+cgk\n",
       "LtA061i6Ra0UJiZH5YMAAARabW9vdgAAAGxtdmhkAAAAAAAAAAAAAAAAAAAD6AAAA+gAAQAAAQAA\n",
       "AAAAAAAAAAAAAAEAAAAAAAAAAAAAAAAAAAABAAAAAAAAAAAAAAAAAABAAAAAAAAAAAAAAAAAAAAA\n",
       "AAAAAAAAAAAAAAAAAAAAAgAAA4R0cmFrAAAAXHRraGQAAAADAAAAAAAAAAAAAAABAAAAAAAAA+gA\n",
       "AAAAAAAAAAAAAAAAAAAAAAEAAAAAAAAAAAAAAAAAAAABAAAAAAAAAAAAAAAAAABAAAAAAbAAAAEg\n",
       "AAAAAAAkZWR0cwAAABxlbHN0AAAAAAAAAAEAAAPoAAAEAAABAAAAAAL8bWRpYQAAACBtZGhkAAAA\n",
       "AAAAAAAAAAAAAAAyAAAAMgBVxAAAAAAALWhkbHIAAAAAAAAAAHZpZGUAAAAAAAAAAAAAAABWaWRl\n",
       "b0hhbmRsZXIAAAACp21pbmYAAAAUdm1oZAAAAAEAAAAAAAAAAAAAACRkaW5mAAAAHGRyZWYAAAAA\n",
       "AAAAAQAAAAx1cmwgAAAAAQAAAmdzdGJsAAAAs3N0c2QAAAAAAAAAAQAAAKNhdmMxAAAAAAAAAAEA\n",
       "AAAAAAAAAAAAAAAAAAAAAbABIABIAAAASAAAAAAAAAABAAAAAAAAAAAAAAAAAAAAAAAAAAAAAAAA\n",
       "AAAAAAAAAAAAGP//AAAAMWF2Y0MBZAAV/+EAGGdkABWs2UGwloQAAAMABAAAAwDIPFi2WAEABmjr\n",
       "48siwAAAABx1dWlka2hA8l8kT8W6OaUbzwMj8wAAAAAAAAAYc3R0cwAAAAAAAAABAAAAGQAAAgAA\n",
       "AAAUc3RzcwAAAAAAAAABAAAAAQAAANhjdHRzAAAAAAAAABkAAAABAAAEAAAAAAEAAAoAAAAAAQAA\n",
       "BAAAAAABAAAAAAAAAAEAAAIAAAAAAQAACgAAAAABAAAEAAAAAAEAAAAAAAAAAQAAAgAAAAABAAAK\n",
       "AAAAAAEAAAQAAAAAAQAAAAAAAAABAAACAAAAAAEAAAoAAAAAAQAABAAAAAABAAAAAAAAAAEAAAIA\n",
       "AAAAAQAACgAAAAABAAAEAAAAAAEAAAAAAAAAAQAAAgAAAAABAAAKAAAAAAEAAAQAAAAAAQAAAAAA\n",
       "AAABAAACAAAAABxzdHNjAAAAAAAAAAEAAAABAAAAGQAAAAEAAAB4c3RzegAAAAAAAAAAAAAAGQAA\n",
       "A6QAAAAvAAAAFAAAABIAAAATAAAAewAAADQAAAApAAAAKwAAAGMAAAA0AAAAHwAAADQAAAB4AAAA\n",
       "PAAAACoAAAA2AAAAhwAAAEwAAABAAAAAPgAAAGAAAABGAAAAOAAAADkAAAAUc3RjbwAAAAAAAAAB\n",
       "AAAALAAAAGJ1ZHRhAAAAWm1ldGEAAAAAAAAAIWhkbHIAAAAAAAAAAG1kaXJhcHBsAAAAAAAAAAAA\n",
       "AAAALWlsc3QAAAAlqXRvbwAAAB1kYXRhAAAAAQAAAABMYXZmNTguMjAuMTAw\n",
       "\">\n",
       "  Your browser does not support the video tag.\n",
       "</video>"
      ],
      "text/plain": [
       "<IPython.core.display.HTML object>"
      ]
     },
     "execution_count": 19,
     "metadata": {},
     "output_type": "execute_result"
    }
   ],
   "source": [
    "HTML(video.to_html5_video())"
   ]
  },
  {
   "cell_type": "markdown",
   "metadata": {},
   "source": [
    "With Policy Gradients"
   ]
  },
  {
   "cell_type": "code",
   "execution_count": 20,
   "metadata": {},
   "outputs": [],
   "source": [
    "tf.reset_default_graph()\n",
    "n_inputs = 4\n",
    "n_hidden = 4\n",
    "n_outputs = 1\n",
    "learning_rate = 0.01\n",
    "initializer = tf.variance_scaling_initializer()\n",
    "\n",
    "X = tf.placeholder(tf.float32, shape=[None, n_inputs])\n",
    "hidden = tf.layers.dense(X, n_hidden, activation=tf.nn.elu, kernel_initializer=initializer)\n",
    "logits = tf.layers.dense(hidden, n_outputs)\n",
    "outputs = tf.nn.sigmoid(logits)\n",
    "\n",
    "p_left_and_right = tf.concat(axis=1, values=[outputs, 1-outputs])\n",
    "action = tf.multinomial(tf.log(p_left_and_right), num_samples=1)\n",
    "\n",
    "y = 1. - tf.to_float(action)\n",
    "cross_entropy = tf.nn.sigmoid_cross_entropy_with_logits(labels=y, logits=logits)\n",
    "optimizer = tf.train.AdamOptimizer(learning_rate)\n",
    "grads_and_vars = optimizer.compute_gradients(cross_entropy)\n",
    "gradients = [grad for grad, var in grads_and_vars]\n",
    "gradient_placeholders = []\n",
    "grads_and_vars_feed = []\n",
    "\n",
    "for grad, variable in grads_and_vars:\n",
    "    gradient_placeholder = tf.placeholder(tf.float32, shape=grad.get_shape())\n",
    "    gradient_placeholders.append(gradient_placeholder)\n",
    "    grads_and_vars_feed.append((gradient_placeholder, variable))\n",
    "training_op = optimizer.apply_gradients(grads_and_vars_feed)\n",
    "\n",
    "\n",
    "init = tf.global_variables_initializer()\n",
    "saver = tf.train.Saver()\n"
   ]
  },
  {
   "cell_type": "code",
   "execution_count": 21,
   "metadata": {},
   "outputs": [],
   "source": [
    "def discount_rewards(rewards, discount_rate):\n",
    "    discounted_rewards = np.zeros(len(rewards))\n",
    "    cumulative_rewards = 0\n",
    "    for step in reversed(range(len(rewards))):\n",
    "        cumulative_rewards = rewards[step] + cumulative_rewards * discount_rate\n",
    "        discounted_rewards[step] = cumulative_rewards\n",
    "    return discounted_rewards\n",
    "\n",
    "def discount_and_normalize_rewards(all_rewards, discount_rate):\n",
    "    all_discounted_rewards = [discount_rewards(rewards, discount_rate) for rewards in all_rewards]\n",
    "    flat_rewards = np.concatenate(all_discounted_rewards)\n",
    "    reward_mean = flat_rewards.mean()\n",
    "    reward_std = flat_rewards.std()\n",
    "    return [(discounted_rewards - reward_mean)/reward_std for discounted_rewards in all_discounted_rewards]"
   ]
  },
  {
   "cell_type": "code",
   "execution_count": 22,
   "metadata": {},
   "outputs": [
    {
     "name": "stdout",
     "output_type": "stream",
     "text": [
      "0\n",
      "10\n",
      "20\n",
      "30\n",
      "40\n",
      "50\n",
      "60\n",
      "70\n",
      "80\n",
      "90\n"
     ]
    }
   ],
   "source": [
    "env = gym.make('CartPole-v0')\n",
    "\n",
    "n_games_per_update = 10\n",
    "n_max_steps = 1000\n",
    "n_iterations = 100\n",
    "save_iterations = 10\n",
    "discount_rate = 0.95\n",
    "\n",
    "with tf.Session() as sess:\n",
    "    init.run()\n",
    "    for iteration in range(n_iterations):\n",
    "        if not iteration%10:\n",
    "            print(iteration) \n",
    "        all_rewards = []\n",
    "        all_gradients = []\n",
    "        for game in range(n_games_per_update):\n",
    "            current_rewards = []\n",
    "            current_gradients = []\n",
    "            obs = env.reset()\n",
    "            for step in range(n_max_steps):\n",
    "                action_val, gradients_val = sess.run([action, gradients], feed_dict={X:obs.reshape(1, n_inputs)})\n",
    "                obs, reward, done, info = env.step(action_val[0][0])\n",
    "                current_rewards.append(reward)\n",
    "                current_gradients.append(gradients_val)\n",
    "                if done:\n",
    "                    break\n",
    "            all_rewards.append(current_rewards)\n",
    "            all_gradients.append(current_gradients)\n",
    "            \n",
    "        all_rewards = discount_and_normalize_rewards(all_rewards, discount_rate=discount_rate)\n",
    "        feed_dict={}\n",
    "        for var_index, gradient_placeholder in enumerate(gradient_placeholders):\n",
    "            mean_gradients = np.mean([reward * all_gradients[game_index][step][var_index] for game_index, rewards in enumerate(all_rewards)\n",
    "                                          for step, reward in enumerate(rewards)], axis=0)\n",
    "            feed_dict[gradient_placeholder] = mean_gradients\n",
    "        sess.run(training_op, feed_dict=feed_dict)\n",
    "        if iteration % save_iterations == 0:\n",
    "            saver.save(sess, \"./cartpole_policy_gradients.ckpt\")"
   ]
  },
  {
   "cell_type": "code",
   "execution_count": 23,
   "metadata": {},
   "outputs": [],
   "source": [
    "env.close()"
   ]
  },
  {
   "cell_type": "code",
   "execution_count": 24,
   "metadata": {},
   "outputs": [],
   "source": [
    "def render_policy_net(model_path, action, X, n_max_steps = 1000):\n",
    "    frames = []\n",
    "    env = gym.make(\"CartPole-v0\")\n",
    "    obs = env.reset()\n",
    "    with tf.Session() as sess:\n",
    "        saver.restore(sess, model_path)\n",
    "        for step in range(n_max_steps):\n",
    "            img = render_cart_pole(env, obs)\n",
    "            frames.append(img)\n",
    "            action_val = action.eval(feed_dict={X: obs.reshape(1, n_inputs)})\n",
    "            obs, reward, done, info = env.step(action_val[0][0])\n",
    "            if done:\n",
    "                break\n",
    "    env.close()\n",
    "    return frames "
   ]
  },
  {
   "cell_type": "code",
   "execution_count": 25,
   "metadata": {},
   "outputs": [
    {
     "name": "stdout",
     "output_type": "stream",
     "text": [
      "INFO:tensorflow:Restoring parameters from ./cartpole_policy_gradients.ckpt\n"
     ]
    },
    {
     "data": {
      "image/png": "[encoded data removed]",
      "text/plain": [
       "<Figure size 432x288 with 1 Axes>"
      ]
     },
     "metadata": {
      "needs_background": "light"
     },
     "output_type": "display_data"
    }
   ],
   "source": [
    "frames = render_policy_net('./cartpole_policy_gradients.ckpt', action, X, n_max_steps=1000)\n",
    "video = plot_animation(frames)\n"
   ]
  },
  {
   "cell_type": "code",
   "execution_count": 29,
   "metadata": {},
   "outputs": [
    {
     "data": {
      "text/html": [
       "<video width=\"432\" height=\"288\" controls autoplay>\n",
       "  <source type=\"video/mp4\" src=\"data:video/mp4;base64,AAAAHGZ0eXBNNFYgAAACAGlzb21pc28yYXZjMQAAAAhmcmVlAAAyV21kYXQAAAKuBgX//6rcRem9\n",
       "5tlIt5Ys2CDZI+7veDI2NCAtIGNvcmUgMTU3IHIyOTM1IDU0NWRlMmYgLSBILjI2NC9NUEVHLTQg\n",
       "QVZDIGNvZGVjIC0gQ29weWxlZnQgMjAwMy0yMDE4IC0gaHR0cDovL3d3dy52aWRlb2xhbi5vcmcv\n",
       "eDI2NC5odG1sIC0gb3B0aW9uczogY2FiYWM9MSByZWY9MyBkZWJsb2NrPTE6MDowIGFuYWx5c2U9\n",
       "MHgzOjB4MTEzIG1lPWhleCBzdWJtZT03IHBzeT0xIHBzeV9yZD0xLjAwOjAuMDAgbWl4ZWRfcmVm\n",
       "PTEgbWVfcmFuZ2U9MTYgY2hyb21hX21lPTEgdHJlbGxpcz0xIDh4OGRjdD0xIGNxbT0wIGRlYWR6\n",
       "b25lPTIxLDExIGZhc3RfcHNraXA9MSBjaHJvbWFfcXBfb2Zmc2V0PS0yIHRocmVhZHM9NiBsb29r\n",
       "YWhlYWRfdGhyZWFkcz0xIHNsaWNlZF90aHJlYWRzPTAgbnI9MCBkZWNpbWF0ZT0xIGludGVybGFj\n",
       "ZWQ9MCBibHVyYXlfY29tcGF0PTAgY29uc3RyYWluZWRfaW50cmE9MCBiZnJhbWVzPTMgYl9weXJh\n",
       "bWlkPTIgYl9hZGFwdD0xIGJfYmlhcz0wIGRpcmVjdD0xIHdlaWdodGI9MSBvcGVuX2dvcD0wIHdl\n",
       "aWdodHA9MiBrZXlpbnQ9MjUwIGtleWludF9taW49MjUgc2NlbmVjdXQ9NDAgaW50cmFfcmVmcmVz\n",
       "aD0wIHJjX2xvb2thaGVhZD00MCByYz1jcmYgbWJ0cmVlPTEgY3JmPTIzLjAgcWNvbXA9MC42MCBx\n",
       "cG1pbj0wIHFwbWF4PTY5IHFwc3RlcD00IGlwX3JhdGlvPTEuNDAgYXE9MToxLjAwAIAAAAFIZYiE\n",
       "ADv//vdOvwKbRZdqA5JXCvbKpCZZuVJrAfKmAAADAAARsG58lw15q9IkAACtgAI4M4+FsvI4KiY/\n",
       "wmlEgAEUAST2shy+/Sj0jVfnWkCTB3HyLc7SDBUTXmDjgq25DbbLRD1d/uu44hURH4kWc505QlmM\n",
       "pyKYR8l/bgvZPCLomQpxyBUjKNuW+foYeRV/NNw+v0DWx6CM1vOKxZdFBes+zc843jYfVygRxHFC\n",
       "4sLke9UihIS3SxUBMP67/5b3sSO9ynWVpLUZDM1+RTxcc8Din4uaMnzbIqCteyoHiqJIr7C+FJV+\n",
       "tCdZRRZcBjfxtmwUAezN3ojOcmPyKHrqRf35MC+ka/UXXckSgcNw7WuGrg0MEZupMY7/MvrRbVtO\n",
       "E1ACW6Y17SB1VAguzltW+tAdF95/ztjkFfD2IDR4REccjq4AAAMBswAAAExBmiJsQ7/+qZYAArhn\n",
       "6GaUddOGmDRroAONw1h1CuJmi6L6U4QLEDGkbrfWbPI9aCUA/8MUaj1chIFrecBfvupXo4dfoDdD\n",
       "t7EpFPpgAAAAHwGeQXkK/wAEVtfGsdfMHfn7gjUVGsAHCRbaB99+FsEAAABmQZpGPCGTKYQ7//6p\n",
       "lgACt/Fx13/6vgBXJW//n+paBO3muERcjxIa1QI6qv0lQL8ENf4Taun/+XdYbOdeY31BfxP84ZEM\n",
       "fFj159PNOiAaMahf5uB3uEP02i6lEHDyjPvVTQTNrYOgAAAAIkGeZGpTwv8AAzhmr9K2AKn+w19m\n",
       "OJGy8JabU69GQvG2gEEAAAAjAZ6DdEK/AARS1eEQYTufdkr75ewfGXgAXrWBpaCVu72/F4EAAAAV\n",
       "AZ6FakK/AARXXcwhhVk49heG3GmhAAAAWkGaikmoQWiZTAh3//6plgACu/AF3gVABx7oBfWdLCNH\n",
       "x/xFEXXlkjDzq1MoBKJgsQ9V5HtTCe4v4DH0+oUI/fnP7/nnG7AutU3z1D3DT36RIOHmx0N4/X//\n",
       "wQAAACRBnqhFESwv/wADOGGAgSAq++SeeeHG5t4TNGYBthXesZwvjYAAAAAcAZ7HdEK/AARWJzdp\n",
       "RT8V6prhpis6BSd2VZujgAAAAB0BnslqQr8ABFbXwfPSQWc0vHJ4n2cGynDKajeohQAAAFlBms5J\n",
       "qEFsmUwId//+qZYAAqXgUqADdgwocPhkj4hkn/GD62zg9KEgpOVzhR1Gj8SLV628PTTfW0XLRHID\n",
       "fMv3Gn5TZJ5jEOQC4ECZfLzE5u98rWRcebLNGgAAADJBnuxFFSwv/wADJM1bojJWSTrAAAFc5di6\n",
       "VWeTRuaFNSAjsHIQ1XDx+ZxNLKDtNYryKgAAADABnwt0Qr8ABDfFFsKSRNGUaasPw6Fcw0MGMAHA\n",
       "5N/AxZ0qzITGbeEsNZJFQbyv6YEAAAAoAZ8NakK/AAQ4M0wWWxWJpZQz9BI/8Byy4AOdFDZE90AE\n",
       "mM6OJ2qGwQAAAGxBmxJJqEFsmUwIb//+p4QABUXgCCeR64AGoKWkIl9ck3cjVIaP2XCCPDSbbNdr\n",
       "pstQ01ZvmhdORKrLsG2P+YlLfS8RsnjZgep5pCpqa/sryp6ykmyk79EB6c0ztBohleNU6epR+kr7\n",
       "lhBuPEEAAAA5QZ8wRRUsL/8AAyKuGgOiFvY79gAhrEDGl1V54tQDJcUecsY2P/GWROZ8zGzWdZZ1\n",
       "kez8ryAaU4EgAAAALAGfT3RCvwAENdEkSznRq2kARY1yGCHfrKZF/kpNpuMjYS3W984U1b+KqUmA\n",
       "AAAAKAGfUWpCvwAEN1+2sVIwZLiomBQXN3Ff4NExQAfLTTdCvG7F4jZSaKsAAAA+QZtUSahBbJlM\n",
       "FEw7//6plgACqIAhKwsaPe68sblgGNgi0H1f//q99JmwU9BA6Bh/7zE/KoOyMjcTsKa3NEAAAAAj\n",
       "AZ9zakK/AAQ2R20Rsj+FxQCyJ9p3jsyzIWoGQ3rByKQve2AAAABEQZt3SeEKUmUwId/+qZYAAqe2\n",
       "MiGmoZR6VAYWUcot5VLI6k7Bup7fTysG5bssgpMfkzb2LcBZZyYdtfN/D9+QIjPNXoEAAAAqQZ+V\n",
       "RTRMK/8ABDdfmHB9AAnGtN8OcLvdBnSQ1ymHn106ZuhR6y7+mL5LAAAAFwGftmpCvwAENkdsylm5\n",
       "mrc8GyZhMZQRAAAAUkGbu0moQWiZTAh3//6plgACp5TXuQAaeu9ji2qx2FQNWuxKK1Xe3Z4kR6/r\n",
       "uX17zYwVyLRUyttA+z6EkH74tnunUEg8WzEIc+UHThkUbHdDTO0AAAAwQZ/ZRREsL/8AAyQaELe3\n",
       "SBNMyaGIyhsJZN/v5cQ9NFPup8RPETFDWX8Ern1TylFUAAAAJAGf+HRCvwAEN8RY0BAAe/yYCayo\n",
       "Es9kZOFKpeGid9kNLy2XMQAAACYBn/pqQr8AAhuv3bpqAEy6hQwjNS2RAROY+WWPRrv+iqkOj13z\n",
       "IQAAAE5Bm/9JqEFsmUwId//+qZYAAqfAebxUAG4sUOFf/630h8//i/jxzWN39vMwPw2nYlg4n+jQ\n",
       "6QvTWYIHiLfrhTnx4NKIZr5jlrluymVVRfEAAAA5QZ4dRRUsL/8AAxnvbivo4AWgbwxWhJto3JgA\n",
       "nvAurUuc52jToOiHpLMCLc2qsV6CfT9yITazvoRTAAAAKwGePHRCvwAEM6JIHACaoBj20NpgYx4h\n",
       "bvQvS6JDEs429CeAvKMUkpMlNyEAAAAbAZ4+akK/AAQ3plaujQCZRWsqRxz8cbDGVnggAAAALkGa\n",
       "I0moQWyZTAh3//6plgACp2YLas1ACz3k0RNMNJb5FXcOeJAxdh5uqktX0OEAAAAhQZ5BRRUsL/8A\n",
       "AxpoB9tYAEH6wdeBDF/miIKcLHb+61RVAAAAHQGeYHRCvwAENdC6neAE0z2S8Wdt9db8ITonZEQh\n",
       "AAAAEgGeYmpCvwAENkds3ZTLAu3M1gAAAG5BmmdJqEFsmUwIb//+p4QABUXf8Ot8AIe5d1EsskdI\n",
       "EfMl0AIa63QkS+3GZo8QmE3/1IOuZXEryZiW10gkAaedHiyKbMj2NzxkOtCGlLZSiXMwH697H+jm\n",
       "hdpTO33pa/saKrpHjfQWjVNHYcQOwQAAACZBnoVFFSwv/wADJLN0QAhOif4zCWKXwbsi3tkezTdT\n",
       "LPPHoJPYqwAAABUBnqR0Qr8ABDfEeBQ9UG6tKIcuIIMAAAAmAZ6makK/AAQ2R4teYWSBjQWiYAL6\n",
       "2llWsxvvb0BVhLo/fqqWVUkAAABkQZqqSahBbJlMCG///qeEAAU/zzVoADjege1BNr7Yc/ckyKv+\n",
       "XfwUwLh05d6Yj8IuiI/n+Gup5ERP1pcBTwMqXZ8AKJFHhBLXxjavBnRBlBVQSjfbivwYgZ5HeVvn\n",
       "YqTSD2n5gAAAADJBnshFFSwr/wAEMtX94RfXNQAcbzfUi1K2qQqOKteclRLTn+SR1LRF0jJqLIPG\n",
       "KGc0mAAAACEBnulqQr8ABDddj4EmosEzbenNxpmcTv17aPvFCHXhltEAAAA8QZrsSahBbJlMFEw3\n",
       "//6nhAAFP9BJXeBfcKpOwS40QXZcALYPmcnxi9IzXZKBcffZP4hSCp0C3zLtPdlYAAAAGwGfC2pC\n",
       "vwAEN6XFNaVpQhJlAZ3rKkoVbFvuSgAAAE1Bmw5J4QpSZTBSw7/+qZYABUxbBICmI6Hgnv7EtCeq\n",
       "soA4Qc+/79sG/qyQwbMaddFO6dd0oOnBrlu5R7zvYvG5bs6f3gefbbYRh6DCWwAAAC8Bny1qQr8A\n",
       "CGyPFq8s7X22+EeyQAmlTgtVCChWQ2J1bfhR1+o/bTFpZW9Bf9jXrwAAAHxBmzJJ4Q6JlMCG//6n\n",
       "hAAFPl67neV6bfufQA2y4+CSLFp676C7PZ5IAVVzG2NvL9GOZJo95+mAdX0Cg81rDjNhSOp2njM/\n",
       "QZp7AGua3TdN+D6PvM+ZXsx5cUQs2U8tRlopxkX09SFAPJlTa/NCtvCNhqs1dioSUIj12faBAAAA\n",
       "M0GfUEUVPC//AAMiU+Kkm3Tak9i1hpOoL37rdG7zNEwngAaq7ApwXOTOPzJ40vm02nCRVAAAADMB\n",
       "n290Qr8ABDQ+bTmC/xAkbuVFPuG9dBcOpRQAOrzR82V+yAa9AZdC/riGx8zsq8Jt/UAAAAAnAZ9x\n",
       "akK/AAIabnzqJq1tHmvZzMADrKuQqM4M+1hFbgITquqfKqL7AAAAS0GbdkmoQWiZTAhv//6nhAAF\n",
       "PhhhjGqbuiAG3xZ7mbOkd+IhGJNgyPBHlbCIeFuRPOv7LPyXzXHh57G/T2jrWM556Y8Aor3ot+ty\n",
       "/AAAAC5Bn5RFESwv/wADGY5wVoeacunRWmvySZVYAIamMM1UYtrLD8yJzREkNkMghVzAAAAAEgGf\n",
       "s3RCvwACE8SBzkUevdHy0wAAABgBn7VqQr8ABDNMGTMMbNUJuquV9Z9ZgmAAAABOQZu3SahBbJlM\n",
       "CG///qeEAAU+jgxOgFIAW0X08ZGkn/97tlp+7/hkCqVT512OnyT+a24gtr66O9ogYEl49LMvXpjF\n",
       "ThnlS2fZfVA2eIy/AAAATkGb2EnhClJlMCHf/qmWAAKlRkctsp7QlUxme4SI07IHMMDQAsHAuqMJ\n",
       "AC2AnRc7rj2qkr76zd2lK/7Jd9yV0cc+oo2pXHnZY4anrMKMrQAAAGNBm/xJ4Q6JlMCHf/6plgAC\n",
       "pU3uDwkojQbYAa1YH5w78s/0DpSTflGH8Qo1GQMlAqrKkF4heYz9nCXDOnmhI9H+CvAaj/LymuGv\n",
       "ta9OiZYxhVNkpP/JuBq/bHa10X5qxR8bsGsAAAAsQZ4aRRE8L/8AAxqVcau1jb6cLlSIe9nKZ6h2\n",
       "mMera7+y9Slf/armzrAh/SEAAAArAZ45dEK/AAQ2Jz44hV4z1Gq4s6YG86UADrKuQaie+miGjP8V\n",
       "QDTEq9XpIAAAAC0BnjtqQr8ABCa1zQr+nD3uTjGdc7DHn0JBMG/c0ADnxY5lRmtLDCOB1gbt32kA\n",
       "AABPQZogSahBaJlMCHf//qmWAAKlq7lwAk343dhcM8z5sHYCEqap85gavcsGgkbAD989R1PJGRab\n",
       "aUbhAjuTG0J7sKTc7AwlirwljwjceG9p2wAAAEdBnl5FESwv/wADIzqzzqmCbgBb7ZJ+mqYFUdRj\n",
       "e96OgQi93AFeeQ42d4w5Az3gEWRw+smKC2JJ6hhp6bVa3huH5WbBqL+YpAAAACsBnn10Qr8ABDYi\n",
       "XpQUIVkrdV2ZOKNaA/ezV8dA8AADn7A3bgXa7ezPV/QgAAAAKQGef2pCvwAIbIyiShhIQ9NzR4kO\n",
       "55vt2fQAcDk36DRcGIoS9Hua8bI3AAAAbEGaZEmoQWyZTAh3//6plgACqGFAbstIZGsfHrQwln2r\n",
       "eLgBIyWocDtPfp5atUqr80pX/7g7x+8WJnJEIl7tW4THFrHUvrfFo8aJz/LEFMVYH42HjCqmKor/\n",
       "VWwttFG1/64sYRePDOHbzlydTAAAADlBnoJFFSwv/wADIqRmZmbgLoNgVsAFiqm0eRaJXODF2VS7\n",
       "2noLWjTzCDiF2w3VAhhL8WhAnfnwtSkAAAAbAZ6hdEK/AAQ0PjzAEJBUP12Hi4V55FGDxdbAAAAA\n",
       "HAGeo2pCvwAENH8XDlTXX8GN4HaWSiFBFc4r838AAACAQZqoSahBbJlMCHf//qmWAAK3pwklyWV/\n",
       "lsAJHr73qU7Z8euzf0Rq6NQnV9sEAwnO5ntsqgH9oVTrc6UslWnfnUIepVH/2I08T07MEjME8ezX\n",
       "3UZ6Sx/7AGwBs326iJCCf0aNfLbzG938+6FnP0k+UyccWHni5wqn2LNoF6w+LfEAAAA/QZ7GRRUs\n",
       "L/8AAzZDlYZ21APjJXiAhuAGlA+twjPHDTs3lxz0Ei2W7hycumkZP/Yr/y9pqId/UAmBYIvVAgZX\n",
       "AAAANQGe5XRCvwAEViKftWavEAJjzxuJR5Wj1TxPyPeT7hNt8eV5o/9g58uU4LjMmEFLTHXKZCmB\n",
       "AAAAMwGe52pCvwAEVtRTGo+LL3jZJwRH42e1uqWjsOCAA5QdtOBtGPEkd1nNc8rmXih1a8RtYAAA\n",
       "AGxBmuxJqEFsmUwId//+qZYAArgH5ntLO+UqWEHo1WWgqA4j5nP0w4La1FVmz6pCbTZ+IAaip0tp\n",
       "1gwz/rHE7h5KjVNZ5NA/7rHF6J0P4D/5aqE2XK/W8Whmz6WJceBRbm7vv5B85g8czmvDczMAAAA5\n",
       "QZ8KRRUsL/8ABkojEXqPy492+eBvs1ptxH5sZkY4kgAFtSMA0+k8i7swuuJ//xT39jY1ss3kIuf1\n",
       "AAAAMwGfKXRCvwAEVD40kLvdv1G5kwoYtqeOds83JzNnAAHV/83GqZqBEnXd/pJLhcvZI3eYIAAA\n",
       "ADIBnytqQr8ABFbVQWjSQ4anjMCI0OmmtmPs74awAcnn2zdHWc2BVLgStfaYCArolJgWYAAAAFNB\n",
       "mzBJqEFsmUwId//+qZYAArenDg4EALU2rV59gcUtRjdSlKes50egweCgj0yJIzebArx2NdNCkOz2\n",
       "swchqO4/7+PpJhq9/uQl2XWDDxfGdpkwgQAAADZBn05FFSwv/wADN/lZknntWE6OilABWH3TBzUc\n",
       "vxmJ8mef+92jLZxALw8QUcux7wMqGCKjr40AAAAtAZ9tdEK/AARTnpYieOma95BF+t37TqNbZx9L\n",
       "1jt0AF9d1i4tVAYvCjcwlOYlAAAANwGfb2pCvwAEVtVBGQ5Q63QmHpNZY0+TajcFgDtx7aAAF0i+\n",
       "z40M066rN6NrAfh2HVINsDYT/ggAAABKQZt0SahBbJlMCHf//qmWAAK5APoJCndkL2QrsKcWwOTD\n",
       "p9bMQ3Lj6tXZB49ZMlRlxyMA3BFVAlVXVtL8TbSLcZIKdWkJTf/93j8AAAA5QZ+SRRUsL/8AAziX\n",
       "OuAAliuSxVuCWjFFSFV+b41mwYee2qcUJkgKP7BF/H3Eir8j72AXGCn5pXdhAAAANgGfsXRCvwAE\n",
       "UxdSvW6bILRN88PzPwgQA5RQx14jFzNGS6miQvkd/2zHpfXxXWv6I+j86JX4kAAAADIBn7NqQr8A\n",
       "BFUGzCgc/FsAJlCx8nAe6u6xcplkIyqPZNkbWD7LUOu3vxccKQU/oeRZWAAAAGFBm7hJqEFsmUwI\n",
       "d//+qZYAArdD1wnM6fY1AB9B8cz7fmaRHTBJ2Zwl2cdIByDcWzHzGXF4oEdAI8kknH/E3HSzfYc5\n",
       "G6XnKWeJVHhInn8qVtLr17WEJwM4R+jRks8pGsOBAAAAPkGf1kUVLC//AAM22ewLPTnR+919MBG8\n",
       "PKliVIt4wA//HoqaHVCYbssCO1a4Kuz8k4Mu+SGuXEgYhYZwsIBAAAAAQgGf9XRCvwAEVOh9I0Xy\n",
       "L+ADAB+2vRetzAwZ8nz3GES2Dp9cWkZ/0RASCTMXXpBabbN7uuXrzF7ywLiaysKdM/eAgQAAADsB\n",
       "n/dqQr8ABEc/k6Q91c9FN07CoNSoAP6dbh7zgMYW8HkMSvhiuAbd0Um40+TvtGxhZbU6mbAXr6Bu\n",
       "ywAAAE9Bm/xJqEFsmUwId//+qZYAAs3wKEozhC4Q70gO/55VKTjqvPVy3YnUYsBQ8X/14JoulY+2\n",
       "J6zcR2RgkFe8nB+8jBYsvgw97/TVv/mUuRDwAAAANkGeGkUVLC//AAM4k3GRMZNbw+r1gqDeRfXg\n",
       "KK6rU1Vk8qrRYiADaSVXnRSbAWq17LOr5KkbfQAAACQBnjl0Qr8ABFMXUnHz5+A9T/iJ1KRFDzDG\n",
       "LY3BvkAjhD3hiJAAAAAoAZ47akK/AARXPuaAB/BWycnMSVvByUzmkLQ0ADns4+EaQWSpHFmCAQAA\n",
       "AE9BmiBJqEFsmUwId//+qZYAAsrD+dMx1uSpsOHukYrwpFJAMbEnVzbSrPzSf7Z1noRGkqn+rKo+\n",
       "c9tcjPYAAe1AFaAQ7/eT1CpUgFy5xoyNAAAALUGeXkUVLC//AANMpjpifmUVflvJ1LtqM+FxIalE\n",
       "/fH3urIAKG+ER/b7PzB0IAAAADgBnn10Qr8ABFeGz0HBwAmULHicA9rcQxXZ+zS42lWfZibE3+4l\n",
       "/GCxZ9TVDMpsbtZUe0g9X1ngIAAAADwBnn9qQr8ABGi36ATLW37B1HBHtVnrMT3j67ukEK4floQb\n",
       "e50N25zuXpKvRQLyuO3sgzrW4jLWG0xgFCEAAABkQZpkSahBbJlMCHf//qmWAALM5dq6PZEMWAFl\n",
       "OwSsZBFRe5cLYVmpqTo6TSRSu6C9ZXio5bMXIje+TvUXFqd8PF6Sr6aJTEmGxfAxRaVcu4Dl4m4q\n",
       "9f+jM8amkctYDgxsc8oZUAAAADhBnoJFFSwv/wADS2l1YmM9OPMUeUK789HoQCSom9oYVYb7juAd\n",
       "GACIOeuYvZ3+53h+jab+nMv6kQAAACoBnqF0Qr8ABHeEdFQd2HxM2AQ9Ydu0+cGtGMAHJ6C5JPGE\n",
       "JIFhXHo+8dAAAAAuAZ6jakK/AAR3Pt+kwbAsJ60ZO6HEBeHH5wkBYAHV5+trV3//Gdd06SPYvYSD\n",
       "BQAAAF5BmqhJqEFsmUwId//+qZYAAstVS+yuiJcPeWyoRT8N9FMmz+4N1OaRdUzvtAAUoPVOcXcF\n",
       "AC3UIlbUEAx10qAY9qCalkxUDdyxuGge/y+7kbAav9IiisKZyWt0bxENAAAARkGexkUVLC//AANK\n",
       "o10z3Cvus7a4L3tWcwcWh14F/msALJ4QAAUoWM2DIZXhVHfAMTeGkZSYSWkJBQbrGNZO3VifZ4ht\n",
       "LYEAAAAwAZ7ldEK/AARzkICCL/wTl9LzlHH7733QHqLQjZOsADtDSqoTbl4cQOIygy7nub4XAAAA\n",
       "KAGe52pCvwAEdz7tQ4ABOzTo/aCYDvQHb11Q1+rnVYt2QpUUW2OWUwIAAABVQZrsSahBbJlMCHf/\n",
       "/qmWAALMlsTsyQ8GYeQqApPH4UmolZYPbMo/5z/JKZgBaPAA99x2F2g4wN9/fKE273Jfh1ZhYe2b\n",
       "yw1zLqW/31gZ2gOW6Cz8kAAAAD5BnwpFFSwv/wADQZBAU5NFBVzovR1zaPMBvxYZWtsqkN9U8AD4\n",
       "ROgVbgPGwW/nlih97fO9+37ImCdxQUAGrwAAADABnyl0Qr8ABHeG8fS8VtUAH9N3UE3G0X663yxH\n",
       "tuoY4L759rPM8iXAM6esUZbH73AAAAAiAZ8rakK/AARzkICBI5Nux2PiZ21W+ZPgloDAFjT/1eXX\n",
       "4AAAAIdBmzBJqEFsmUwId//+qZYAAt7l+hjcP76AC05iVhbA1LMmY7zmK4OdNDElIFKKub/mCzIr\n",
       "+0EQOv60IqdbT0ADK9nw+PTpO6iRWq4ICXb9as6hUbLpRs+prjilRA2OlojNrYhPOy9a8x2Okqmk\n",
       "uiq0EY1Fw+q8z+IwWSJw/YH/9isU8qslB8MAAABBQZ9ORRUsL/8AA2ClqInI8vfBHQAWrmUNrGRe\n",
       "c3T7i1QCirDFKCGPWbFEMtTWhUGCuJdOmOfbVt2n1X5yrjRQzYEAAABCAZ9tdEK/AAR06F+XPGgA\n",
       "JjjI9lCfhhvu8E2OLYK2dTj9zk4z0w1VX723+y8Ci9hxou0m03/Aa/EJA2Mn7JPU5Yb3AAAANgGf\n",
       "b2pCvwAEktMJo8ADgelE0+9U3Rqs6oRBi40VYSfhpV7EfwTQqbRm5lkRi+374ZmvvXglQAAAAHNB\n",
       "m3RJqEFsmUwId//+qZYAAt7l/6JNoeK5wANXM78cXgi7lzjR4Rc5rZf3qgD+KO8EWUW05CIjp2BR\n",
       "3fjbpcjg9mYaYmD6tRw0CsqXuWjZ5WxZ4TxIV3zt4DmnSi/wc9u9/3A3Pi7911t+BDCLfbiqlm3U\n",
       "AAAAP0GfkkUVLC//AANcDfkNdyB3TmQnytYgbadY9WafgCB8KPCmUNaah3Mg0yc5B3i6FIiLhe6u\n",
       "/hWvRH5Mw997gQAAADEBn7F0Qr8ABJLCKUH+q7qF01pxkjxX46RPqcxvgAOyLo6VJkWg+N+P/A/7\n",
       "UwxrqtNMAAAAOgGfs2pCvwAElNa35YfKEneTpS2SlBKEavN4PYOBWH575CswI3wAHSWxx3TYnxOC\n",
       "uL2J6CU+A7KxWOgAAABwQZu4SahBbJlMCHf//qmWAALbVViLOQNOH5HJXO+4dwClcEYkfVrLY5tb\n",
       "J4R5OlZfL13LwSevy5fAAtNgtpGT7aJpMRsYV+vL4uUSICJHaexVLxP+SUoH+K0Bq7Pd7uB5jEve\n",
       "8ji5lDyfukOKaofhgQAAAD1Bn9ZFFSwv/wADXwS01cgMGRwAlM90B93MyI8UwdKwSz5sktqcaTG6\n",
       "+DLhexxjHbZRH8zviiP/NSUIWAnAAAAAQgGf9XRCvwAJL4eZ1XtdaIUYgw3gUAJlCx4nAbV074be\n",
       "vSJrSnFo8ZZqIjJh9Y9MKaGrzlCApUAQF3YpHxotOCe8kQAAAC8Bn/dqQr8ABJc2ker9jMHsdpGc\n",
       "8BD1uqClgA5kYnmPulmpiyKKuaYP3pqmpE/d4QAAAGJBm/xJqEFsmUwId//+qZYAAu2jlbreBR1K\n",
       "2b9VgxvHJTyUZ65x6n/BcYgwI99ffUAV8gtkmEmCfO2PasYV/0vkxTb0ZzvHZOyK9wDfRmVm+fNb\n",
       "Qi7ABLzb5mgDfAIutKts5gAAADxBnhpFFSwv/wADdKWhpUaqURXM75rmfr4AW+2Sfq6oJBSirasH\n",
       "WvIbwFJARyz1keI+f6XXhdngJdIvCm8AAAA8AZ45dEK/AASGRIo2uhQBRBZJJC6/AKX+1MQ+hMHZ\n",
       "GyxNzS4pFIoAHV5o+JeXWx8IHg2BGKVbZjLSze7wAAAAOQGeO2pCvwAEt1vuk8AYhACY86uOhLcc\n",
       "JgvWVZc/cXCnwZRaQjR3YEUk5hcHfLjYPYMbcuHOfON2vQAAAF1BmiBJqEFsmUwIb//+p4QABdSu\n",
       "PBujIur6gAW1JtY42/OUpLwDmCzpIjP8hhAPVe1uL4YIjBF7zh6IQGaHW7NuFjrsRMIrj+a7VNTd\n",
       "9l4erWeCq9++sgV4c6/g34EAAABDQZ5eRRUsL/8AA3Pivt722oUfEt0AGo4Ul02fc0JbAVqM9VDl\n",
       "glyNZjuEpWOj5QSPlCvdHtuZm5oPqz8ymX1dY1WVUAAAACcBnn10Qr8ABLPKcZHsNUnN1fN+hBqB\n",
       "OjeRAefacRBZSrbHBFMSP8YAAAArAZ5/akK/AASzRScoMEx9xR/ijdshTjRNXmMu0q3HVDMRC9gA\n",
       "W1DIjGqVGQAAAFpBmmFJqEFsmUwId//+qZYAAwXtwP0t4s6L0fr/Vl+WDKG9VvMt4APtrvU8LUw8\n",
       "7qrpPYxlCc6ARKyrBmtitv6XzRHxwscuymOtqzgLpP+9b4YOwq4a17U8fTAAAABUQZqFSeEKUmUw\n",
       "Id/+qZYAAwI72Q++NADmheqbfCbKit58gJdY9C9Lymr4vuKCvmHeMQ0LFE797uPp6OgQjnE3qpbO\n",
       "/Gaya6dJoi+APzro0cHg7qOBAAAAU0Geo0U0TC//AAOKlDTQEa9ALIv/kvjaUMhOofo8FGbm9h7J\n",
       "2aP/d6E2Ier2ACccUQGQImaZrw2ct2w41vL43KI5shSonFC1tpPUjN83liXRDRLAAAAAPAGewnRC\n",
       "vwAEs46j5sAHOBwAmXUJEJQxaSmMmisErlSaDSa2UvNycM77KZZ6g8buG3B+hEviAa0Qmq9VgQAA\n",
       "ADMBnsRqQr8ABNdbv76+nyRwAlthkwsyNuYktUXPQm7zLBYxEDcIjCxxHRpFyyoY11NkHnEAAAB3\n",
       "QZrJSahBaJlMCHf//qmWAAMFA2YCUYOnhDoAH5y1VCSZn4mz8QGD+vnP6gOIXspaLQ06pLhuRqty\n",
       "7f4eYljj46a1lT6QTOaWABfjmku6kN++5gCbpoDSZAOUaLOVkj54nl4bqwTgUbyztvYsw+ErHkU9\n",
       "+Ztb7oEAAAA+QZ7nRREsL/8AA4kxIZ/sfIoASg6ZFTLvTKm9FF32fe6v4VLyAe3VMKAs9zowKv9P\n",
       "UVcXHJh5sTvDgNXUzcEAAABBAZ8GdEK/AATXdhuehgAuEf3J3J6xNXRlu78/22+QfT1yEbFjzWIa\n",
       "SoyMzdCjp1KmZRNyHvH5x6SVPCncCdqpFcAAAABMAZ8IakK/AATTyf+Sijca00AEzuxVSQA3/wqW\n",
       "Gvlv9bsOzM4fbw4FHyj2EeIxHLLimQzDIUEfJSctdV162LoC3oWkUaCS5+OQkaewcAAAAGlBmw1J\n",
       "qEFsmUwId//+qZYAAwEEkKGkVAA1czvxxeBZ0Rsp+Dw6SuY1jwU/hh6RcE+3jU9oESKp2tIgnh8L\n",
       "8eiq8lBTQem/cMgsRhJ75dz5YGFVzvQa8l+Q5/PNbEJ2m3Y6VJeNh9zEHDsAAABLQZ8rRRUsL/8A\n",
       "A33IEidNM1Sw7UcAHwLRkGoyiI/z0X7mVzIXgperbSX1CHlGUfE/PD9PbgcjbRQ5J/Wtgq0XnFjG\n",
       "C/KkpPwbSnqpAAAAOgGfSnRCvwAE13Ybv+6ACcIuOhh3DWTn5JtUH+8DopmD7q88mfNHUm6XZlZ0\n",
       "DfRMpJZCtJ9XCDsgs4AAAAA0AZ9MakK/AATNmWcL7/9xOxqkJEvTvNWvjULgH81dx/ehwhSFXAAX\n",
       "1W6JnVjMhNcrg63bPwAAAIFBm1FJqEFsmUwId//+qZYAAxUEkIFRIANpIDZ9SRrHZYqmmDo6f7HN\n",
       "Z0NFW2g7vcfLlPy1bKjjTzO3ewPBCZHa4jfez5mifwxcAvGmZFhiY85dvcQhHG10+vNewnBKC/K0\n",
       "ATVrOa34+c3N3xaq770VQr+DQnPY4STKoBGH7oHtbkEAAABKQZ9vRRUsL/8AA6B6ZCdtrmxq0Cbu\n",
       "+pexYvFuKt/UxPY+sAAlSjcughmkUF5+F3rv3V66CnECzWrZvCupMQZPRd0QyU5NXxG+/tcAAABI\n",
       "AZ+OdEK/AAT4OVQMNaIAbrzfUL+ih7z3Tp33wg8Xzx0T5bkgTKy+UCGHKHEIsQ2MVWxjdZTWRL9O\n",
       "ReO5TwEgGHTynnbx/X6AAAAAMwGfkGpCvwAE+B0hiLiAHi99ZryPBGDsm3xY5Jeqj2S6E83I7f3N\n",
       "GfAAdXoL+12X4X1+gAAAAHdBm5VJqEFsmUwId//+qZYAAxkDaBY5181ynEALqn8f9/HzMl26Vw/6\n",
       "2XSRoD5B9qOUdjV/sYCAXkl4qUxPl0UR4IHVqzhP2sHGx0HFE75g/6AJpVaIS2KIYt/fPOb7xH6D\n",
       "PGjBpGUZq1JgJpU5zpW7Xh7FIEGWCwAAAERBn7NFFSwv/wADlh30lozVxL+QsfziYFgA4rswh0O/\n",
       "68fx0fXTaCjjQNiyy3X+tgShUUhozsvJvIAnpMEiBA/wkjB5MgAAADQBn9J0Qr8ABOaMEKiC+vqE\n",
       "6X2NPRIavkTx4pNB3fU0Mmv8AADns49DS6D+0pKVUxEXTRYtAAAAOAGf1GpCvwAE9i/qsDgBLaq6\n",
       "5NlY74DbKI9FdQzxrppDCa8HELqHnMx/o1BvbXP4Htk3MGlv9LnTAAAAd0Gb2UmoQWyZTAh3//6p\n",
       "lgADKoZigREVQAWwGB/ZR++h0hfep1aW/kcmbNlJW4bj46CYJ/OdvudcgqcZXO/oUw45KrTNoqOc\n",
       "n/5faG+OAhNBhowJcsRvkFg/uM8/LRIMA4RfHKWjle5D8ZMrSdefH4oMLWct3b63AAAAM0Gf90UV\n",
       "LC//AAO1tMx2Ubc9O+PQoAJ7PumDlUW4vjmJI//lWtuYK+GW+gI+Vo31jICpuQAAACoBnhZ0Qr8A\n",
       "BRz3LH/jhlBnwxRa8rDdbE21KHTxkAHaCsWdmVnErjjU680AAAAmAZ4YakK/AAUdS7vfIEWHOTvI\n",
       "IrSgA+8QYyGZ1RVbCFDh6auRY54AAABFQZodSahBbJlMCHf//qmWAAM9BLoTe78jFo31XoAIcLvc\n",
       "A6U8z/CcPOw5L6gGUvzq8E94cMe7RQ3fdl5oR8neuMMTCtWBAAAAN0GeO0UVLC//AAPMlvdElQjg\n",
       "BAhSPCvKjtU6mCYz7iRpwcKkJqJJuuO2bPe06NUX3gt5eAOQpYAAAAAmAZ5adEK/AAUdAmJ+0tir\n",
       "tZACatpjxN8/gGzaQncMt8npgtvWm2EAAAAoAZ5cakK/AAVCvbUE3eoVkR0hYMVoERrMUAC6RI+J\n",
       "eX5d4Bj0hmm0gQAAAD5BmkFJqEFsmUwIb//+p4QABnHXlluayCj4n9bwHCDjTMDE0FoGamEBayHH\n",
       "pBPEeiD1XI+j0AYeC7yrrtvl5AAAACNBnn9FFSwv/wADy7TNtER0CAL80qu/MlDare6nKU0F1su0\n",
       "sAAAAB0Bnp50Qr8ABULVAHSVF+QxumXfYBmXQdZuJkr58QAAABoBnoBqQr8ABUKWBeMyeGX5swQW\n",
       "5htLezxpgAAAAGxBmoNJqEFsmUwUTDf//qeEAAZs58SELfK/XEANrd49uhx7+MNTvukiWCOlKbKb\n",
       "3ReAtVUDPZqAXuRI2PM/5gvtoLelfapomzcUQPooD+ZA88kqPItNjBGShPitgS7bGwzFOy4z+Ofu\n",
       "usweQscAAAAzAZ6iakK/AAVClkIGACZRi9Ey39bktg6ta3jgjpLw7HL+UTRtfCMS/5ayac7yycQj\n",
       "fnqnAAAAUUGapUnhClJlMFLDv/6plgADUQI4N434Je4KAPABbIXve75i/DyfwDuyTmZnjAJT9FQo\n",
       "OywJYkLnOCX0mQnzX8PG5asqbw63Z0PRZwQ0agBbQQAAACYBnsRqQr8ABWa9tUnnXdgDwtKxhEF7\n",
       "wAAO0NGpyXQIdaFX/Qca3wAAAHZBmslJ4Q6JlMCHf/6plgADUJmN2CF4lQOgAf0eDKJb6PwRXr9j\n",
       "ElKGqT3P+lQ/qDyHf9jY6N3avbmoa0mr5dN78ngJlscI8zoHlkb/mXn83xaTn2ISWnWKAx1A9/Ok\n",
       "LT1+qSFTaK6f+5/H9RtVZMcX+wHpMxrhAAAARUGe50UVPC//AAPgqaDFq/xnQAjQ5Hpr8I4NE/lr\n",
       "u3Ffxv39GPmwEbaIOTN2qqLy+JCcYULKoZ6tlDRrvfTHDtePQVrkuQAAADcBnwZ0Qr8ABWbWI3BX\n",
       "pJlUC1OPeqWYXbSpdHi46nq8CAAFzWN8ttBX53d10smU9q6P3cPsDG/AAAAANwGfCGpCvwAFVbf8\n",
       "bk/rq8YEOV3WpJNBW0A4s/4GRain2wALq0UVlb31BS/8t1euX4YU3Ix49fgAAABkQZsNSahBaJlM\n",
       "CG///qeEAAa902K5rQAOEURJUVWqZT59pROLqmRwb/0rUrgELTGva0HnQuH9CLNDkggNFFibm57H\n",
       "w/wCFYJLQIAGaeib/1uwrIGOpEjSmVoc3zLWfw8n1XoJwQAAAEpBnytFESwv/wAH8TExN1bNKYXA\n",
       "A1V0hlANKzH48IfKczBI35n7VrTeWcrkL1piawHWWcIjQtaDy+xE571+joSMTuLkMZ7WQAkW3AAA\n",
       "ADABn0p0Qr8ABYsef4roGsrOe6AAnbtk1lkDmK1jkM9CCyCI0OVw41JNjfeoLPMfQb8AAAAvAZ9M\n",
       "akK/AAsVfzB8+Oc285tDG2B/XaMLSPymQKMKQpJRPzGxCOCdv54GMTxM3MEAAACEQZtRSahBbJlM\n",
       "CGf//p4QABpv/zpBqGAjYAEpyUWAwWuYAl6OjCuZlTASaQ8cLP/qvI+UQfVMZMA3UV0mW6da258+\n",
       "6RK+5AmxCyAPmqjimHABUw2yLgkFFmGjDA6vCCSl/OUXIvPjnqyJZp6X/6u17zgZ1ZRILjoNAKwX\n",
       "tPUuRSWCfki3AAAAUUGfb0UVLC//AAfyIu82eX+j8eQA1xaVV+ljXchE0dEBLx7de8uTtcxKBd9k\n",
       "bX4vGSm5r62UdmerkzeS2Dj0naHIXUhIXxAG+3DIZeM2sy5XMQAAADkBn450Qr8ABYeubGHqTyQf\n",
       "TUANzPRFGa19N2x8uD44SWMFtY/S25OdK6VcIWQFUAkFDdHEcEZg5uYAAAA+AZ+QakK/AAsVfs7m\n",
       "fRj9rryAB84SW/M1XMp2PiJtmJFvcWs7omuYdVZZHFwIqqOzLen+M9mYEjyljK3VhNAAAABrQZuU\n",
       "SahBbJlMCFf//jhAAGlYoEAcw0qHPL+o25oOuU3wRNzesfUnh9565DI+aHWrQhl8vQZ/REG46fve\n",
       "FjfNTUKZ4ocb0syzWlkFGsTK/+JZ2bHwu9U0rIoAVmJvi8Klt8mCOpn/1Q6S9oEAAABHQZ+yRRUs\n",
       "K/8ACxcmmM4yWib8EST6QUn8bqUHr/mjwqaOFR6RPIcP6mMdiYATTOr6gh8Z8X6JQwnbkjG4b+/h\n",
       "a2tcv/poLtAAAABWAZ/TakK/AAsVgGmLsQJIk4+2ACZwZtfXDFMOlX/ltOQBhl/+evJtXuNyMl2S\n",
       "xop97glpfMPQg4WBoS4/GKu25OG1rSH4aCGmKIbbqxCbP+t3lIFUw4AAAAuKbW9vdgAAAGxtdmhk\n",
       "AAAAAAAAAAAAAAAAAAAD6AAAHEgAAQAAAQAAAAAAAAAAAAAAAAEAAAAAAAAAAAAAAAAAAAABAAAA\n",
       "AAAAAAAAAAAAAABAAAAAAAAAAAAAAAAAAAAAAAAAAAAAAAAAAAAAAAAAAgAACrR0cmFrAAAAXHRr\n",
       "aGQAAAADAAAAAAAAAAAAAAABAAAAAAAAHEgAAAAAAAAAAAAAAAAAAAAAAAEAAAAAAAAAAAAAAAAA\n",
       "AAABAAAAAAAAAAAAAAAAAABAAAAAAbAAAAEgAAAAAAAkZWR0cwAAABxlbHN0AAAAAAAAAAEAABxI\n",
       "AAAEAAABAAAAAAosbWRpYQAAACBtZGhkAAAAAAAAAAAAAAAAAAAyAAABagBVxAAAAAAALWhkbHIA\n",
       "AAAAAAAAAHZpZGUAAAAAAAAAAAAAAABWaWRlb0hhbmRsZXIAAAAJ121pbmYAAAAUdm1oZAAAAAEA\n",
       "AAAAAAAAAAAAACRkaW5mAAAAHGRyZWYAAAAAAAAAAQAAAAx1cmwgAAAAAQAACZdzdGJsAAAAs3N0\n",
       "c2QAAAAAAAAAAQAAAKNhdmMxAAAAAAAAAAEAAAAAAAAAAAAAAAAAAAAAAbABIABIAAAASAAAAAAA\n",
       "AAABAAAAAAAAAAAAAAAAAAAAAAAAAAAAAAAAAAAAAAAAAAAAGP//AAAAMWF2Y0MBZAAV/+EAGGdk\n",
       "ABWs2UGwloQAAAMABAAAAwDIPFi2WAEABmjr48siwAAAABx1dWlka2hA8l8kT8W6OaUbzwMj8wAA\n",
       "AAAAAAAYc3R0cwAAAAAAAAABAAAAtQAAAgAAAAAUc3RzcwAAAAAAAAABAAAAAQAABZhjdHRzAAAA\n",
       "AAAAALEAAAABAAAEAAAAAAEAAAYAAAAAAQAAAgAAAAABAAAKAAAAAAEAAAQAAAAAAQAAAAAAAAAB\n",
       "AAACAAAAAAEAAAoAAAAAAQAABAAAAAABAAAAAAAAAAEAAAIAAAAAAQAACgAAAAABAAAEAAAAAAEA\n",
       "AAAAAAAAAQAAAgAAAAABAAAKAAAAAAEAAAQAAAAAAQAAAAAAAAABAAACAAAAAAEAAAYAAAAAAQAA\n",
       "AgAAAAABAAAIAAAAAAIAAAIAAAAAAQAACgAAAAABAAAEAAAAAAEAAAAAAAAAAQAAAgAAAAABAAAK\n",
       "AAAAAAEAAAQAAAAAAQAAAAAAAAABAAACAAAAAAEAAAoAAAAAAQAABAAAAAABAAAAAAAAAAEAAAIA\n",
       "AAAAAQAACgAAAAABAAAEAAAAAAEAAAAAAAAAAQAAAgAAAAABAAAIAAAAAAIAAAIAAAAAAQAABgAA\n",
       "AAABAAACAAAAAAEAAAYAAAAAAQAAAgAAAAABAAAKAAAAAAEAAAQAAAAAAQAAAAAAAAABAAACAAAA\n",
       "AAEAAAoAAAAAAQAABAAAAAABAAAAAAAAAAEAAAIAAAAAAgAABAAAAAABAAAKAAAAAAEAAAQAAAAA\n",
       "AQAAAAAAAAABAAACAAAAAAEAAAoAAAAAAQAABAAAAAABAAAAAAAAAAEAAAIAAAAAAQAACgAAAAAB\n",
       "AAAEAAAAAAEAAAAAAAAAAQAAAgAAAAABAAAKAAAAAAEAAAQAAAAAAQAAAAAAAAABAAACAAAAAAEA\n",
       "AAoAAAAAAQAABAAAAAABAAAAAAAAAAEAAAIAAAAAAQAACgAAAAABAAAEAAAAAAEAAAAAAAAAAQAA\n",
       "AgAAAAABAAAKAAAAAAEAAAQAAAAAAQAAAAAAAAABAAACAAAAAAEAAAoAAAAAAQAABAAAAAABAAAA\n",
       "AAAAAAEAAAIAAAAAAQAACgAAAAABAAAEAAAAAAEAAAAAAAAAAQAAAgAAAAABAAAKAAAAAAEAAAQA\n",
       "AAAAAQAAAAAAAAABAAACAAAAAAEAAAoAAAAAAQAABAAAAAABAAAAAAAAAAEAAAIAAAAAAQAACgAA\n",
       "AAABAAAEAAAAAAEAAAAAAAAAAQAAAgAAAAABAAAKAAAAAAEAAAQAAAAAAQAAAAAAAAABAAACAAAA\n",
       "AAEAAAoAAAAAAQAABAAAAAABAAAAAAAAAAEAAAIAAAAAAQAACgAAAAABAAAEAAAAAAEAAAAAAAAA\n",
       "AQAAAgAAAAABAAAKAAAAAAEAAAQAAAAAAQAAAAAAAAABAAACAAAAAAEAAAoAAAAAAQAABAAAAAAB\n",
       "AAAAAAAAAAEAAAIAAAAAAQAACgAAAAABAAAEAAAAAAEAAAAAAAAAAQAAAgAAAAABAAAEAAAAAAEA\n",
       "AAoAAAAAAQAABAAAAAABAAAAAAAAAAEAAAIAAAAAAQAACgAAAAABAAAEAAAAAAEAAAAAAAAAAQAA\n",
       "AgAAAAABAAAKAAAAAAEAAAQAAAAAAQAAAAAAAAABAAACAAAAAAEAAAoAAAAAAQAABAAAAAABAAAA\n",
       "AAAAAAEAAAIAAAAAAQAACgAAAAABAAAEAAAAAAEAAAAAAAAAAQAAAgAAAAABAAAKAAAAAAEAAAQA\n",
       "AAAAAQAAAAAAAAABAAACAAAAAAEAAAoAAAAAAQAABAAAAAABAAAAAAAAAAEAAAIAAAAAAQAACgAA\n",
       "AAABAAAEAAAAAAEAAAAAAAAAAQAAAgAAAAABAAAGAAAAAAEAAAIAAAAAAQAABgAAAAABAAACAAAA\n",
       "AAEAAAoAAAAAAQAABAAAAAABAAAAAAAAAAEAAAIAAAAAAQAACgAAAAABAAAEAAAAAAEAAAAAAAAA\n",
       "AQAAAgAAAAABAAAKAAAAAAEAAAQAAAAAAQAAAAAAAAABAAACAAAAAAEAAAgAAAAAAgAAAgAAAAAc\n",
       "c3RzYwAAAAAAAAABAAAAAQAAALUAAAABAAAC6HN0c3oAAAAAAAAAAAAAALUAAAP+AAAAUAAAACMA\n",
       "AABqAAAAJgAAACcAAAAZAAAAXgAAACgAAAAgAAAAIQAAAF0AAAA2AAAANAAAACwAAABwAAAAPQAA\n",
       "ADAAAAAsAAAAQgAAACcAAABIAAAALgAAABsAAABWAAAANAAAACgAAAAqAAAAUgAAAD0AAAAvAAAA\n",
       "HwAAADIAAAAlAAAAIQAAABYAAAByAAAAKgAAABkAAAAqAAAAaAAAADYAAAAlAAAAQAAAAB8AAABR\n",
       "AAAAMwAAAIAAAAA3AAAANwAAACsAAABPAAAAMgAAABYAAAAcAAAAUgAAAFIAAABnAAAAMAAAAC8A\n",
       "AAAxAAAAUwAAAEsAAAAvAAAALQAAAHAAAAA9AAAAHwAAACAAAACEAAAAQwAAADkAAAA3AAAAcAAA\n",
       "AD0AAAA3AAAANgAAAFcAAAA6AAAAMQAAADsAAABOAAAAPQAAADoAAAA2AAAAZQAAAEIAAABGAAAA\n",
       "PwAAAFMAAAA6AAAAKAAAACwAAABTAAAAMQAAADwAAABAAAAAaAAAADwAAAAuAAAAMgAAAGIAAABK\n",
       "AAAANAAAACwAAABZAAAAQgAAADQAAAAmAAAAiwAAAEUAAABGAAAAOgAAAHcAAABDAAAANQAAAD4A\n",
       "AAB0AAAAQQAAAEYAAAAzAAAAZgAAAEAAAABAAAAAPQAAAGEAAABHAAAAKwAAAC8AAABeAAAAWAAA\n",
       "AFcAAABAAAAANwAAAHsAAABCAAAARQAAAFAAAABtAAAATwAAAD4AAAA4AAAAhQAAAE4AAABMAAAA\n",
       "NwAAAHsAAABIAAAAOAAAADwAAAB7AAAANwAAAC4AAAAqAAAASQAAADsAAAAqAAAALAAAAEIAAAAn\n",
       "AAAAIQAAAB4AAABwAAAANwAAAFUAAAAqAAAAegAAAEkAAAA7AAAAOwAAAGgAAABOAAAANAAAADMA\n",
       "AACIAAAAVQAAAD0AAABCAAAAbwAAAEsAAABaAAAAFHN0Y28AAAAAAAAAAQAAACwAAABidWR0YQAA\n",
       "AFptZXRhAAAAAAAAACFoZGxyAAAAAAAAAABtZGlyYXBwbAAAAAAAAAAAAAAAAC1pbHN0AAAAJal0\n",
       "b28AAAAdZGF0YQAAAAEAAAAATGF2ZjU4LjIwLjEwMA==\n",
       "\">\n",
       "  Your browser does not support the video tag.\n",
       "</video>"
      ],
      "text/plain": [
       "<IPython.core.display.HTML object>"
      ]
     },
     "execution_count": 29,
     "metadata": {},
     "output_type": "execute_result"
    }
   ],
   "source": [
    "HTML(video.to_html5_video())"
   ]
  },
  {
   "cell_type": "code",
   "execution_count": 30,
   "metadata": {},
   "outputs": [
    {
     "ename": "DependencyNotInstalled",
     "evalue": "No module named 'atari_py'. (HINT: you can install Atari dependencies by running 'pip install gym[atari]'.)",
     "output_type": "error",
     "traceback": [
      "\u001b[1;31m---------------------------------------------------------------------------\u001b[0m",
      "\u001b[1;31mModuleNotFoundError\u001b[0m                       Traceback (most recent call last)",
      "\u001b[1;32m~\\AppData\\Local\\conda\\conda\\envs\\TensorFlow2\\lib\\site-packages\\gym\\envs\\atari\\atari_env.py\u001b[0m in \u001b[0;36m<module>\u001b[1;34m\u001b[0m\n\u001b[0;32m      8\u001b[0m \u001b[1;32mtry\u001b[0m\u001b[1;33m:\u001b[0m\u001b[1;33m\u001b[0m\u001b[1;33m\u001b[0m\u001b[0m\n\u001b[1;32m----> 9\u001b[1;33m     \u001b[1;32mimport\u001b[0m \u001b[0matari_py\u001b[0m\u001b[1;33m\u001b[0m\u001b[1;33m\u001b[0m\u001b[0m\n\u001b[0m\u001b[0;32m     10\u001b[0m \u001b[1;32mexcept\u001b[0m \u001b[0mImportError\u001b[0m \u001b[1;32mas\u001b[0m \u001b[0me\u001b[0m\u001b[1;33m:\u001b[0m\u001b[1;33m\u001b[0m\u001b[1;33m\u001b[0m\u001b[0m\n",
      "\u001b[1;31mModuleNotFoundError\u001b[0m: No module named 'atari_py'",
      "\nDuring handling of the above exception, another exception occurred:\n",
      "\u001b[1;31mDependencyNotInstalled\u001b[0m                    Traceback (most recent call last)",
      "\u001b[1;32m<ipython-input-30-b9767346ac2c>\u001b[0m in \u001b[0;36m<module>\u001b[1;34m\u001b[0m\n\u001b[1;32m----> 1\u001b[1;33m \u001b[0menv\u001b[0m\u001b[1;33m=\u001b[0m \u001b[0mgym\u001b[0m\u001b[1;33m.\u001b[0m\u001b[0mmake\u001b[0m\u001b[1;33m(\u001b[0m\u001b[1;34m'MsPacman-v0'\u001b[0m\u001b[1;33m)\u001b[0m\u001b[1;33m\u001b[0m\u001b[1;33m\u001b[0m\u001b[0m\n\u001b[0m",
      "\u001b[1;32m~\\AppData\\Local\\conda\\conda\\envs\\TensorFlow2\\lib\\site-packages\\gym\\envs\\registration.py\u001b[0m in \u001b[0;36mmake\u001b[1;34m(id, **kwargs)\u001b[0m\n\u001b[0;32m    169\u001b[0m \u001b[1;33m\u001b[0m\u001b[0m\n\u001b[0;32m    170\u001b[0m \u001b[1;32mdef\u001b[0m \u001b[0mmake\u001b[0m\u001b[1;33m(\u001b[0m\u001b[0mid\u001b[0m\u001b[1;33m,\u001b[0m \u001b[1;33m**\u001b[0m\u001b[0mkwargs\u001b[0m\u001b[1;33m)\u001b[0m\u001b[1;33m:\u001b[0m\u001b[1;33m\u001b[0m\u001b[1;33m\u001b[0m\u001b[0m\n\u001b[1;32m--> 171\u001b[1;33m     \u001b[1;32mreturn\u001b[0m \u001b[0mregistry\u001b[0m\u001b[1;33m.\u001b[0m\u001b[0mmake\u001b[0m\u001b[1;33m(\u001b[0m\u001b[0mid\u001b[0m\u001b[1;33m,\u001b[0m \u001b[1;33m**\u001b[0m\u001b[0mkwargs\u001b[0m\u001b[1;33m)\u001b[0m\u001b[1;33m\u001b[0m\u001b[1;33m\u001b[0m\u001b[0m\n\u001b[0m\u001b[0;32m    172\u001b[0m \u001b[1;33m\u001b[0m\u001b[0m\n\u001b[0;32m    173\u001b[0m \u001b[1;32mdef\u001b[0m \u001b[0mspec\u001b[0m\u001b[1;33m(\u001b[0m\u001b[0mid\u001b[0m\u001b[1;33m)\u001b[0m\u001b[1;33m:\u001b[0m\u001b[1;33m\u001b[0m\u001b[1;33m\u001b[0m\u001b[0m\n",
      "\u001b[1;32m~\\AppData\\Local\\conda\\conda\\envs\\TensorFlow2\\lib\\site-packages\\gym\\envs\\registration.py\u001b[0m in \u001b[0;36mmake\u001b[1;34m(self, id, **kwargs)\u001b[0m\n\u001b[0;32m    121\u001b[0m             \u001b[0mlogger\u001b[0m\u001b[1;33m.\u001b[0m\u001b[0minfo\u001b[0m\u001b[1;33m(\u001b[0m\u001b[1;34m'Making new env: %s'\u001b[0m\u001b[1;33m,\u001b[0m \u001b[0mid\u001b[0m\u001b[1;33m)\u001b[0m\u001b[1;33m\u001b[0m\u001b[1;33m\u001b[0m\u001b[0m\n\u001b[0;32m    122\u001b[0m         \u001b[0mspec\u001b[0m \u001b[1;33m=\u001b[0m \u001b[0mself\u001b[0m\u001b[1;33m.\u001b[0m\u001b[0mspec\u001b[0m\u001b[1;33m(\u001b[0m\u001b[0mid\u001b[0m\u001b[1;33m)\u001b[0m\u001b[1;33m\u001b[0m\u001b[1;33m\u001b[0m\u001b[0m\n\u001b[1;32m--> 123\u001b[1;33m         \u001b[0menv\u001b[0m \u001b[1;33m=\u001b[0m \u001b[0mspec\u001b[0m\u001b[1;33m.\u001b[0m\u001b[0mmake\u001b[0m\u001b[1;33m(\u001b[0m\u001b[1;33m**\u001b[0m\u001b[0mkwargs\u001b[0m\u001b[1;33m)\u001b[0m\u001b[1;33m\u001b[0m\u001b[1;33m\u001b[0m\u001b[0m\n\u001b[0m\u001b[0;32m    124\u001b[0m         \u001b[1;31m# We used to have people override _reset/_step rather than\u001b[0m\u001b[1;33m\u001b[0m\u001b[1;33m\u001b[0m\u001b[1;33m\u001b[0m\u001b[0m\n\u001b[0;32m    125\u001b[0m         \u001b[1;31m# reset/step. Set _gym_disable_underscore_compat = True on\u001b[0m\u001b[1;33m\u001b[0m\u001b[1;33m\u001b[0m\u001b[1;33m\u001b[0m\u001b[0m\n",
      "\u001b[1;32m~\\AppData\\Local\\conda\\conda\\envs\\TensorFlow2\\lib\\site-packages\\gym\\envs\\registration.py\u001b[0m in \u001b[0;36mmake\u001b[1;34m(self, **kwargs)\u001b[0m\n\u001b[0;32m     84\u001b[0m             \u001b[0menv\u001b[0m \u001b[1;33m=\u001b[0m \u001b[0mself\u001b[0m\u001b[1;33m.\u001b[0m\u001b[0m_entry_point\u001b[0m\u001b[1;33m(\u001b[0m\u001b[1;33m**\u001b[0m\u001b[0m_kwargs\u001b[0m\u001b[1;33m)\u001b[0m\u001b[1;33m\u001b[0m\u001b[1;33m\u001b[0m\u001b[0m\n\u001b[0;32m     85\u001b[0m         \u001b[1;32melse\u001b[0m\u001b[1;33m:\u001b[0m\u001b[1;33m\u001b[0m\u001b[1;33m\u001b[0m\u001b[0m\n\u001b[1;32m---> 86\u001b[1;33m             \u001b[0mcls\u001b[0m \u001b[1;33m=\u001b[0m \u001b[0mload\u001b[0m\u001b[1;33m(\u001b[0m\u001b[0mself\u001b[0m\u001b[1;33m.\u001b[0m\u001b[0m_entry_point\u001b[0m\u001b[1;33m)\u001b[0m\u001b[1;33m\u001b[0m\u001b[1;33m\u001b[0m\u001b[0m\n\u001b[0m\u001b[0;32m     87\u001b[0m             \u001b[0menv\u001b[0m \u001b[1;33m=\u001b[0m \u001b[0mcls\u001b[0m\u001b[1;33m(\u001b[0m\u001b[1;33m**\u001b[0m\u001b[0m_kwargs\u001b[0m\u001b[1;33m)\u001b[0m\u001b[1;33m\u001b[0m\u001b[1;33m\u001b[0m\u001b[0m\n\u001b[0;32m     88\u001b[0m \u001b[1;33m\u001b[0m\u001b[0m\n",
      "\u001b[1;32m~\\AppData\\Local\\conda\\conda\\envs\\TensorFlow2\\lib\\site-packages\\gym\\envs\\registration.py\u001b[0m in \u001b[0;36mload\u001b[1;34m(name)\u001b[0m\n\u001b[0;32m     12\u001b[0m     \u001b[1;32mimport\u001b[0m \u001b[0mpkg_resources\u001b[0m \u001b[1;31m# takes ~400ms to load, so we import it lazily\u001b[0m\u001b[1;33m\u001b[0m\u001b[1;33m\u001b[0m\u001b[0m\n\u001b[0;32m     13\u001b[0m     \u001b[0mentry_point\u001b[0m \u001b[1;33m=\u001b[0m \u001b[0mpkg_resources\u001b[0m\u001b[1;33m.\u001b[0m\u001b[0mEntryPoint\u001b[0m\u001b[1;33m.\u001b[0m\u001b[0mparse\u001b[0m\u001b[1;33m(\u001b[0m\u001b[1;34m'x={}'\u001b[0m\u001b[1;33m.\u001b[0m\u001b[0mformat\u001b[0m\u001b[1;33m(\u001b[0m\u001b[0mname\u001b[0m\u001b[1;33m)\u001b[0m\u001b[1;33m)\u001b[0m\u001b[1;33m\u001b[0m\u001b[1;33m\u001b[0m\u001b[0m\n\u001b[1;32m---> 14\u001b[1;33m     \u001b[0mresult\u001b[0m \u001b[1;33m=\u001b[0m \u001b[0mentry_point\u001b[0m\u001b[1;33m.\u001b[0m\u001b[0mresolve\u001b[0m\u001b[1;33m(\u001b[0m\u001b[1;33m)\u001b[0m\u001b[1;33m\u001b[0m\u001b[1;33m\u001b[0m\u001b[0m\n\u001b[0m\u001b[0;32m     15\u001b[0m     \u001b[1;32mreturn\u001b[0m \u001b[0mresult\u001b[0m\u001b[1;33m\u001b[0m\u001b[1;33m\u001b[0m\u001b[0m\n\u001b[0;32m     16\u001b[0m \u001b[1;33m\u001b[0m\u001b[0m\n",
      "\u001b[1;32m~\\AppData\\Local\\conda\\conda\\envs\\TensorFlow2\\lib\\site-packages\\pkg_resources\\__init__.py\u001b[0m in \u001b[0;36mresolve\u001b[1;34m(self)\u001b[0m\n\u001b[0;32m   2350\u001b[0m         \u001b[0mResolve\u001b[0m \u001b[0mthe\u001b[0m \u001b[0mentry\u001b[0m \u001b[0mpoint\u001b[0m \u001b[1;32mfrom\u001b[0m \u001b[0mits\u001b[0m \u001b[0mmodule\u001b[0m \u001b[1;32mand\u001b[0m \u001b[0mattrs\u001b[0m\u001b[1;33m.\u001b[0m\u001b[1;33m\u001b[0m\u001b[1;33m\u001b[0m\u001b[0m\n\u001b[0;32m   2351\u001b[0m         \"\"\"\n\u001b[1;32m-> 2352\u001b[1;33m         \u001b[0mmodule\u001b[0m \u001b[1;33m=\u001b[0m \u001b[0m__import__\u001b[0m\u001b[1;33m(\u001b[0m\u001b[0mself\u001b[0m\u001b[1;33m.\u001b[0m\u001b[0mmodule_name\u001b[0m\u001b[1;33m,\u001b[0m \u001b[0mfromlist\u001b[0m\u001b[1;33m=\u001b[0m\u001b[1;33m[\u001b[0m\u001b[1;34m'__name__'\u001b[0m\u001b[1;33m]\u001b[0m\u001b[1;33m,\u001b[0m \u001b[0mlevel\u001b[0m\u001b[1;33m=\u001b[0m\u001b[1;36m0\u001b[0m\u001b[1;33m)\u001b[0m\u001b[1;33m\u001b[0m\u001b[1;33m\u001b[0m\u001b[0m\n\u001b[0m\u001b[0;32m   2353\u001b[0m         \u001b[1;32mtry\u001b[0m\u001b[1;33m:\u001b[0m\u001b[1;33m\u001b[0m\u001b[1;33m\u001b[0m\u001b[0m\n\u001b[0;32m   2354\u001b[0m             \u001b[1;32mreturn\u001b[0m \u001b[0mfunctools\u001b[0m\u001b[1;33m.\u001b[0m\u001b[0mreduce\u001b[0m\u001b[1;33m(\u001b[0m\u001b[0mgetattr\u001b[0m\u001b[1;33m,\u001b[0m \u001b[0mself\u001b[0m\u001b[1;33m.\u001b[0m\u001b[0mattrs\u001b[0m\u001b[1;33m,\u001b[0m \u001b[0mmodule\u001b[0m\u001b[1;33m)\u001b[0m\u001b[1;33m\u001b[0m\u001b[1;33m\u001b[0m\u001b[0m\n",
      "\u001b[1;32m~\\AppData\\Local\\conda\\conda\\envs\\TensorFlow2\\lib\\site-packages\\gym\\envs\\atari\\__init__.py\u001b[0m in \u001b[0;36m<module>\u001b[1;34m\u001b[0m\n\u001b[1;32m----> 1\u001b[1;33m \u001b[1;32mfrom\u001b[0m \u001b[0mgym\u001b[0m\u001b[1;33m.\u001b[0m\u001b[0menvs\u001b[0m\u001b[1;33m.\u001b[0m\u001b[0matari\u001b[0m\u001b[1;33m.\u001b[0m\u001b[0matari_env\u001b[0m \u001b[1;32mimport\u001b[0m \u001b[0mAtariEnv\u001b[0m\u001b[1;33m\u001b[0m\u001b[1;33m\u001b[0m\u001b[0m\n\u001b[0m",
      "\u001b[1;32m~\\AppData\\Local\\conda\\conda\\envs\\TensorFlow2\\lib\\site-packages\\gym\\envs\\atari\\atari_env.py\u001b[0m in \u001b[0;36m<module>\u001b[1;34m\u001b[0m\n\u001b[0;32m      9\u001b[0m     \u001b[1;32mimport\u001b[0m \u001b[0matari_py\u001b[0m\u001b[1;33m\u001b[0m\u001b[1;33m\u001b[0m\u001b[0m\n\u001b[0;32m     10\u001b[0m \u001b[1;32mexcept\u001b[0m \u001b[0mImportError\u001b[0m \u001b[1;32mas\u001b[0m \u001b[0me\u001b[0m\u001b[1;33m:\u001b[0m\u001b[1;33m\u001b[0m\u001b[1;33m\u001b[0m\u001b[0m\n\u001b[1;32m---> 11\u001b[1;33m     \u001b[1;32mraise\u001b[0m \u001b[0merror\u001b[0m\u001b[1;33m.\u001b[0m\u001b[0mDependencyNotInstalled\u001b[0m\u001b[1;33m(\u001b[0m\u001b[1;34m\"{}. (HINT: you can install Atari dependencies by running 'pip install gym[atari]'.)\"\u001b[0m\u001b[1;33m.\u001b[0m\u001b[0mformat\u001b[0m\u001b[1;33m(\u001b[0m\u001b[0me\u001b[0m\u001b[1;33m)\u001b[0m\u001b[1;33m)\u001b[0m\u001b[1;33m\u001b[0m\u001b[1;33m\u001b[0m\u001b[0m\n\u001b[0m\u001b[0;32m     12\u001b[0m \u001b[1;33m\u001b[0m\u001b[0m\n\u001b[0;32m     13\u001b[0m \u001b[1;32mdef\u001b[0m \u001b[0mto_ram\u001b[0m\u001b[1;33m(\u001b[0m\u001b[0male\u001b[0m\u001b[1;33m)\u001b[0m\u001b[1;33m:\u001b[0m\u001b[1;33m\u001b[0m\u001b[1;33m\u001b[0m\u001b[0m\n",
      "\u001b[1;31mDependencyNotInstalled\u001b[0m: No module named 'atari_py'. (HINT: you can install Atari dependencies by running 'pip install gym[atari]'.)"
     ]
    }
   ],
   "source": [
    "env= gym.make('MsPacman-v0')"
   ]
  },
  {
   "cell_type": "code",
   "execution_count": null,
   "metadata": {},
   "outputs": [],
   "source": []
  }
 ],
 "metadata": {
  "kernelspec": {
   "display_name": "Python 3",
   "language": "python",
   "name": "python3"
  },
  "language_info": {
   "codemirror_mode": {
    "name": "ipython",
    "version": 3
   },
   "file_extension": ".py",
   "mimetype": "text/x-python",
   "name": "python",
   "nbconvert_exporter": "python",
   "pygments_lexer": "ipython3",
   "version": "3.6.8"
  }
 },
 "nbformat": 4,
 "nbformat_minor": 2
}
